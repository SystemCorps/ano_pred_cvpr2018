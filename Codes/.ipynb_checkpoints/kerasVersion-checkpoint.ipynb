{
 "cells": [
  {
   "cell_type": "code",
   "execution_count": 2,
   "metadata": {},
   "outputs": [],
   "source": [
    "import tensorflow as tf\n",
    "import tensorflow.keras as keras\n",
    "from tensorflow.keras import backend as K\n",
    "\n",
    "from tensorflow.keras.models import Model\n",
    "from tensorflow.keras.backend import int_shape\n",
    "from tensorflow.keras.layers import (\n",
    "    BatchNormalization, Conv2D, Conv2DTranspose,\n",
    "    MaxPooling2D, Dropout, Input, concatenate, Cropping2D\n",
    ")\n",
    "\n",
    "import os\n",
    "\n",
    "from models import generator, discriminator, flownet, initialize_flownet\n",
    "from loss_functions import intensity_loss, gradient_loss\n",
    "from v_utils import DataLoader, load, save, psnr_error\n",
    "\n",
    "import cv2\n",
    "import numpy as np\n",
    "from glob import glob\n",
    "\n",
    "%matplotlib inline\n",
    "import matplotlib.pyplot as plt"
   ]
  },
  {
   "cell_type": "code",
   "execution_count": null,
   "metadata": {},
   "outputs": [],
   "source": []
  }
 ],
 "metadata": {
  "kernelspec": {
   "display_name": "Python 3",
   "language": "python",
   "name": "python3"
  },
  "language_info": {
   "codemirror_mode": {
    "name": "ipython",
    "version": 3
   },
   "file_extension": ".py",
   "mimetype": "text/x-python",
   "name": "python",
   "nbconvert_exporter": "python",
   "pygments_lexer": "ipython3",
   "version": "3.6.8"
  }
 },
 "nbformat": 4,
 "nbformat_minor": 4
}
